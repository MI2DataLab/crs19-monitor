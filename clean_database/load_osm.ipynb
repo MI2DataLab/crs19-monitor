{
 "cells": [
  {
   "cell_type": "code",
   "execution_count": 1,
   "metadata": {},
   "outputs": [],
   "source": [
    "import overpy\n",
    "import pandas as pd\n",
    "from unidecode import unidecode\n",
    "import numpy as np\n",
    "from locations_utils import update_locations_level, merge_nodes, delete_empty_mappings, set_missing_details\n",
    "import sqlite3"
   ]
  },
  {
   "cell_type": "code",
   "execution_count": 2,
   "metadata": {},
   "outputs": [],
   "source": [
    "osm_api = \"\"\n",
    "loc_db = \"../../data/locations.sqlite\""
   ]
  },
  {
   "cell_type": "code",
   "execution_count": 3,
   "metadata": {},
   "outputs": [],
   "source": [
    "osm = overpy.Overpass(url=osm_api)"
   ]
  },
  {
   "cell_type": "markdown",
   "metadata": {},
   "source": [
    "### Load continents"
   ]
  },
  {
   "cell_type": "code",
   "execution_count": 4,
   "metadata": {},
   "outputs": [],
   "source": [
    "def query_continents(osm):\n",
    "    query = \"\"\"\n",
    "        [out:json][timeout:3600][maxsize:1073741824];\n",
    "        node[\"place\"=\"continent\"];\n",
    "        out body;\n",
    "    \"\"\"\n",
    "    return osm.query(query)"
   ]
  },
  {
   "cell_type": "code",
   "execution_count": 5,
   "metadata": {},
   "outputs": [],
   "source": [
    "def read_continents_records(result, tags=[]):\n",
    "    nodes = result.nodes\n",
    "    lat = [float(x.lat) for x in nodes]\n",
    "    lng = [float(x.lon) for x in nodes]\n",
    "    df_dict = {'lng': lng, 'lat': lat}\n",
    "    for tag in tags:\n",
    "        df_dict[tag] = [d.tags.get(tag) for d in nodes]\n",
    "    return pd.DataFrame(df_dict)"
   ]
  },
  {
   "cell_type": "code",
   "execution_count": 6,
   "metadata": {},
   "outputs": [
    {
     "name": "stdout",
     "output_type": "stream",
     "text": [
      "Adding 1 new nodes to locations database\n"
     ]
    }
   ],
   "source": [
    "continents = read_continents_records(query_continents(osm), tags=['name:en'])\n",
    "continents['continent_id'] = update_locations_level(loc_db, continents[['name:en']].rename(columns={'name:en': 'name'}), update_counts=False)\n",
    "set_missing_details(loc_db, continents.rename(columns={'continent_id': 'id'}), tags=['lat', 'lng'])"
   ]
  },
  {
   "cell_type": "markdown",
   "metadata": {},
   "source": [
    "### Load countries"
   ]
  },
  {
   "cell_type": "code",
   "execution_count": 7,
   "metadata": {},
   "outputs": [],
   "source": [
    "def query_countries(osm):\n",
    "    query = \"\"\"\n",
    "        [out:json][timeout:3600][maxsize:1073741824];\n",
    "        rel[\"ISO3166-1\"]->.a;\n",
    "        node(r.a:\"label\")->.b;\n",
    "        node(r.a:\"admin_centre\")->.c;\n",
    "        (.a;.b;.c;);\n",
    "        out center;\n",
    "    \"\"\"\n",
    "    return osm.query(query)"
   ]
  },
  {
   "cell_type": "code",
   "execution_count": 8,
   "metadata": {},
   "outputs": [],
   "source": [
    "def read_countries_records(result, tags=[]):\n",
    "    lat = []\n",
    "    lng = []\n",
    "    for d in result.relations:\n",
    "        # Label as center\n",
    "        center = next(filter(lambda x: x.role == \"label\", d.members), None)\n",
    "        # If label is missing than admin_centre (capital)\n",
    "        if center is None:\n",
    "            center = next(filter(lambda x: x.role == \"admin_centre\", d.members), None)\n",
    "        # If any of above is available than get referenced node\n",
    "        if center is not None:\n",
    "            center = center.resolve()\n",
    "            lat.append(float(center.lat))\n",
    "            lng.append(float(center.lon))\n",
    "        # Else get caluclated centre from borders\n",
    "        if center is None:\n",
    "            lat.append(float(d.center_lat))\n",
    "            lng.append(float(d.center_lon))\n",
    "    # Dict of columns\n",
    "    df_dict = {'lng': lng, 'lat': lat}\n",
    "    for tag in tags:\n",
    "        df_dict[tag] = [d.tags.get(tag) for d in result.relations]\n",
    "    return pd.DataFrame(df_dict)\n"
   ]
  },
  {
   "cell_type": "code",
   "execution_count": 9,
   "metadata": {},
   "outputs": [],
   "source": [
    "def fix_countries_dataframe(df, continents):\n",
    "    have_eng_name = ~df['name:en'].isnull()\n",
    "    # Replace default names with english names if available\n",
    "    df.loc[have_eng_name, 'name'] = df[have_eng_name]['name:en']\n",
    "    \n",
    "    # Remove rows with land mass in name\n",
    "    df = df[~df['name'].str.endswith('(land mass)')].copy()\n",
    "    df = df.drop_duplicates('ISO3166-1')\n",
    "    \n",
    "    # List of names of correct continents\n",
    "    available_continents = continents['name:en'].tolist()\n",
    "    # Remove incorrect continent names\n",
    "    df['is_in:continent'] = [x if x in available_continents else None for x in df['is_in:continent']]\n",
    "    \n",
    "    # Row with missing continent field\n",
    "    without_continent = df['is_in:continent'].isnull()\n",
    "    continent_assigned = []\n",
    "    for index, row in df[without_continent].iterrows():\n",
    "        # Get distance from each continent centre\n",
    "        dists = []\n",
    "        for index2, continent in continents.iterrows():\n",
    "            dists.append((row['lat'] - continent['lat'])**2 + (row['lng'] - continent['lng'])**2)\n",
    "        order = np.argsort(dists)\n",
    "        # Set closest continent\n",
    "        continent_assigned.append(continents.iloc[order[0]]['name:en'])\n",
    "    df.loc[without_continent, 'is_in:continent'] = continent_assigned\n",
    "    return df"
   ]
  },
  {
   "cell_type": "code",
   "execution_count": 10,
   "metadata": {},
   "outputs": [],
   "source": [
    "countries_result = query_countries(osm)"
   ]
  },
  {
   "cell_type": "code",
   "execution_count": 11,
   "metadata": {},
   "outputs": [
    {
     "name": "stdout",
     "output_type": "stream",
     "text": [
      "Adding 0 new nodes to locations database\n",
      "Adding 110 new nodes to locations database\n"
     ]
    }
   ],
   "source": [
    "countries_df = read_countries_records(countries_result, tags=['name', 'name:en', 'ISO3166-1', 'is_in:continent'])\n",
    "countries_df = fix_countries_dataframe(countries_df, continents)\n",
    "countries_df['continent_id'] = update_locations_level(loc_db, countries_df[['is_in:continent']].rename(columns={'is_in:continent': 'name'}), update_counts=False)\n",
    "countries_df['country_id'] = update_locations_level(loc_db, countries_df[['continent_id', 'name']].rename(columns={'continent_id': 'parent_id'}), update_counts=False)\n",
    "set_missing_details(loc_db, countries_df.rename(columns={'ISO3166-1': 'iso_code', 'country_id': 'id'}))"
   ]
  },
  {
   "cell_type": "markdown",
   "metadata": {},
   "source": [
    "### Load states"
   ]
  },
  {
   "cell_type": "code",
   "execution_count": 12,
   "metadata": {},
   "outputs": [],
   "source": [
    "def query_states(osm):\n",
    "    query = \"\"\"\n",
    "        [out:json][timeout:3600][maxsize:1073741824];\n",
    "        rel[\"ISO3166-2\"][\"boundary\"=\"administrative\"];\n",
    "        out center;\n",
    "    \"\"\"\n",
    "    return osm.query(query)"
   ]
  },
  {
   "cell_type": "code",
   "execution_count": 13,
   "metadata": {},
   "outputs": [],
   "source": [
    "def read_states_records(result, tags=[]):\n",
    "    rels = result.relations\n",
    "    lat = [float(x.center_lat) for x in rels]\n",
    "    lng = [float(x.center_lon) for x in rels]\n",
    "    df_dict = {'lng': lng, 'lat': lat}\n",
    "    for tag in tags:\n",
    "        df_dict[tag] = [d.tags.get(tag) for d in rels]\n",
    "    return pd.DataFrame(df_dict)"
   ]
  },
  {
   "cell_type": "code",
   "execution_count": 14,
   "metadata": {},
   "outputs": [],
   "source": [
    "def fix_states_dataframe(df, countries):\n",
    "    df['ISO3166-1'] = [x.split('-')[0] for x in df['ISO3166-2']]\n",
    "    df = pd.merge(df, countries[['ISO3166-1', 'country_id']], on='ISO3166-1')\n",
    "    return df"
   ]
  },
  {
   "cell_type": "code",
   "execution_count": 15,
   "metadata": {},
   "outputs": [],
   "source": [
    "states_result = query_states(osm)"
   ]
  },
  {
   "cell_type": "code",
   "execution_count": 16,
   "metadata": {},
   "outputs": [],
   "source": [
    "states_df = read_states_records(states_result, tags=['ISO3166-2', 'name', 'name:en'])\n",
    "states_df = fix_states_dataframe(states_df, countries_df)"
   ]
  },
  {
   "cell_type": "code",
   "execution_count": 17,
   "metadata": {},
   "outputs": [
    {
     "name": "stdout",
     "output_type": "stream",
     "text": [
      "Adding 4107 new nodes to locations database\n"
     ]
    }
   ],
   "source": [
    "# Load mappings from default name\n",
    "states_df['state_id'] = update_locations_level(loc_db, states_df[['country_id', 'name']].rename(columns={'country_id': 'parent_id'}), update_counts=False)\n",
    "set_missing_details(loc_db, states_df.rename(columns={'ISO3166-2': 'iso_code', 'state_id': 'id'}))"
   ]
  },
  {
   "cell_type": "code",
   "execution_count": 18,
   "metadata": {},
   "outputs": [
    {
     "name": "stdout",
     "output_type": "stream",
     "text": [
      "Adding 1695 new nodes to locations database\n"
     ]
    }
   ],
   "source": [
    "# Load mappings from english name\n",
    "states_with_eng_name = states_df[~states_df['name:en'].isnull()].copy()\n",
    "states_with_eng_name['state_id_2'] = update_locations_level(loc_db, states_with_eng_name[['country_id', 'name:en']].rename(columns={'country_id': 'parent_id', 'name:en': 'name'}), update_counts=False)\n",
    "set_missing_details(loc_db, states_with_eng_name.rename(columns={'ISO3166-2': 'iso_code', 'state_id_2': 'id'}))"
   ]
  },
  {
   "cell_type": "code",
   "execution_count": 19,
   "metadata": {
    "scrolled": true
   },
   "outputs": [],
   "source": [
    "# Merge mappings of default and english names\n",
    "for state_id, rows in states_with_eng_name[['state_id', 'state_id_2']].groupby('state_id'):\n",
    "    merge_nodes(loc_db, [state_id] + list(rows['state_id_2']))"
   ]
  },
  {
   "cell_type": "code",
   "execution_count": 20,
   "metadata": {},
   "outputs": [],
   "source": [
    "# Delete unused nodes left after merging\n",
    "delete_empty_mappings(loc_db)"
   ]
  }
 ],
 "metadata": {
  "kernelspec": {
   "display_name": "Crs19",
   "language": "python",
   "name": "crs19"
  },
  "language_info": {
   "codemirror_mode": {
    "name": "ipython",
    "version": 3
   },
   "file_extension": ".py",
   "mimetype": "text/x-python",
   "name": "python",
   "nbconvert_exporter": "python",
   "pygments_lexer": "ipython3",
   "version": "3.7.10"
  }
 },
 "nbformat": 4,
 "nbformat_minor": 4
}
